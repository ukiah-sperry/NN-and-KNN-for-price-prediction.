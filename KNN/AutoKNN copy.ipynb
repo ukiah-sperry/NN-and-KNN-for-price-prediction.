{
 "cells": [
  {
   "cell_type": "code",
   "execution_count": 10,
   "id": "8c2fe080-7adb-496e-91f2-ec8eef4ef987",
   "metadata": {},
   "outputs": [],
   "source": [
    "import pandas as pd\n",
    "import numpy as np\n",
    "from sklearn.model_selection import train_test_split, GridSearchCV\n",
    "from sklearn.preprocessing import StandardScaler\n",
    "from sklearn.neighbors import KNeighborsRegressor\n",
    "from sklearn.metrics import mean_squared_error, r2_score, mean_absolute_error\n",
    "\n",
    "# Load dataset\n",
    "df = pd.read_csv(\"auto.csv\")\n",
    "\n",
    "# Binary encoding for columns with 2 unique options\n",
    "binary_cols = [col for col in df.columns if df[col].nunique() == 2]\n",
    "for col in binary_cols:\n",
    "    unique_values = df[col].unique()\n",
    "    df[col] = df[col].apply(lambda x: 1 if x == unique_values[0] else 0)\n",
    "\n",
    "# One-Hot Encoding for remaining categorical columns\n",
    "categorical_cols = df.select_dtypes(include=['object']).columns\n",
    "df = pd.get_dummies(df, columns=categorical_cols, drop_first=True)\n",
    "\n",
    "# Normalize numeric features\n",
    "scaler = StandardScaler()\n",
    "numeric_cols = ['km', 'age', 'hp_kW', 'Displacement_cc', 'Weight_kg', 'cons_comb']\n",
    "df[numeric_cols] = scaler.fit_transform(df[numeric_cols])\n",
    "\n",
    "# Apply log transformation to the target\n",
    "df['price'] = np.log1p(df['price'])\n",
    "\n",
    "# Define features (X) and target (y)\n",
    "X = df.drop('price', axis=1).values  # Predicting price\n",
    "y = df['price'].values  # Target variable (price)\n",
    "\n",
    "# Split into training and testing sets\n",
    "X_train, X_test, y_train, y_test = train_test_split(X, y, test_size=0.2, random_state=42)"
   ]
  },
  {
   "cell_type": "code",
   "execution_count": 12,
   "id": "c93c40cf-7407-4965-9635-e8a8dc7fda6e",
   "metadata": {},
   "outputs": [
    {
     "name": "stdout",
     "output_type": "stream",
     "text": [
      "Best Parameters: {'n_neighbors': 5}\n",
      "Best Score: 0.009056693574666128\n",
      "Mean Squared Error (MSE): 0.0085\n",
      "R-squared (R²): 0.9468\n",
      "Mean Absolute Percentage Error (MAPE): 0.64%\n"
     ]
    }
   ],
   "source": [
    "# Perform Grid Search for Hyperparameter Tuning\n",
    "param_grid = {'n_neighbors': [3, 5, 7, 9, 11]}\n",
    "grid_search = GridSearchCV(KNeighborsRegressor(), param_grid, scoring='neg_mean_squared_error', cv=5)\n",
    "grid_search.fit(X_train, y_train)\n",
    "\n",
    "# Display the best parameters and the corresponding score\n",
    "print(f\"Best Parameters: {grid_search.best_params_}\")\n",
    "print(f\"Best Score: {-grid_search.best_score_}\")\n",
    "\n",
    "# Use the best model from GridSearchCV\n",
    "best_knn_model = grid_search.best_estimator_\n",
    "\n",
    "# Train the KNN model\n",
    "best_knn_model.fit(X_train, y_train)\n",
    "\n",
    "# Predict on the test set\n",
    "y_pred = best_knn_model.predict(X_test)\n",
    "\n",
    "# Evaluate the model\n",
    "mse = mean_squared_error(y_test, y_pred)\n",
    "r2 = r2_score(y_test, y_pred)\n",
    "mape = mean_absolute_error(y_test, y_pred) / np.mean(y_test) * 100\n",
    "\n",
    "print(f\"Mean Squared Error (MSE): {mse:.4f}\")\n",
    "print(f\"R-squared (R²): {r2:.4f}\")\n",
    "print(f\"Mean Absolute Percentage Error (MAPE): {mape:.2f}%\")"
   ]
  },
  {
   "cell_type": "code",
   "execution_count": null,
   "id": "9baf6209-16c4-4ff0-931f-9408997a7b3e",
   "metadata": {},
   "outputs": [],
   "source": []
  }
 ],
 "metadata": {
  "kernelspec": {
   "display_name": "Python 3 (ipykernel)",
   "language": "python",
   "name": "python3"
  },
  "language_info": {
   "codemirror_mode": {
    "name": "ipython",
    "version": 3
   },
   "file_extension": ".py",
   "mimetype": "text/x-python",
   "name": "python",
   "nbconvert_exporter": "python",
   "pygments_lexer": "ipython3",
   "version": "3.12.4"
  }
 },
 "nbformat": 4,
 "nbformat_minor": 5
}
